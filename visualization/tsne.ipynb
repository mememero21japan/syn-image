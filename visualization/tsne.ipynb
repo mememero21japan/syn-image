{
 "cells": [
  {
   "cell_type": "code",
   "execution_count": 2,
   "metadata": {
    "collapsed": false
   },
   "outputs": [
    {
     "name": "stderr",
     "output_type": "stream",
     "text": [
      "/Users/admin/anaconda/lib/python2.7/site-packages/matplotlib/font_manager.py:273: UserWarning: Matplotlib is building the font cache using fc-list. This may take a moment.\n",
      "  warnings.warn('Matplotlib is building the font cache using fc-list. This may take a moment.')\n"
     ]
    }
   ],
   "source": [
    "%matplotlib inline"
   ]
  },
  {
   "cell_type": "code",
   "execution_count": 128,
   "metadata": {
    "collapsed": true
   },
   "outputs": [],
   "source": [
    "import numpy as np\n",
    "from sklearn.manifold import TSNE\n",
    "import matplotlib.pyplot as Plot\n",
    "from sklearn.preprocessing import scale"
   ]
  },
  {
   "cell_type": "code",
   "execution_count": 106,
   "metadata": {
    "collapsed": true
   },
   "outputs": [],
   "source": [
    "def load_data(feat_file,label_file):\n",
    "    feats = np.load(feat_file)\n",
    "    labels = open(label_file,\"r\").read().strip().split(\",\")\n",
    "    print type(feats)\n",
    "    print feats.shape\n",
    "    print \"labels\", len(labels)\n",
    "    return feats, labels"
   ]
  },
  {
   "cell_type": "code",
   "execution_count": null,
   "metadata": {
    "collapsed": false
   },
   "outputs": [],
   "source": []
  },
  {
   "cell_type": "code",
   "execution_count": 107,
   "metadata": {
    "collapsed": false
   },
   "outputs": [
    {
     "name": "stdout",
     "output_type": "stream",
     "text": [
      "<type 'numpy.ndarray'>\n",
      "(1695, 1000)\n",
      "labels 1695\n"
     ]
    }
   ],
   "source": [
    "feat_file = \"../data/102flowers/fc_features_10class.npy\"\n",
    "label_file = \"../data/102flowers/imagelabels_10class.txt\"\n",
    "feats, labels = load_data(feat_file,label_file)"
   ]
  },
  {
   "cell_type": "code",
   "execution_count": 145,
   "metadata": {
    "collapsed": true
   },
   "outputs": [],
   "source": [
    "from collections import defaultdict\n",
    "def show(feats,labels):\n",
    "    color_dict= defaultdict(lambda: len(color_dict))\n",
    "    for label in labels:\n",
    "        index = color_dict[int(label)]\n",
    "    print color_dict        \n",
    "    color_list = [\"y\",\"k\",\"m\",\"c\",\"#ca7f68\",\"#0e2f44\",\"#9791ab\",\"g\",\"b\",\"r\"]\n",
    "    x, y = feats[:,0], feats[:,1]\n",
    "    print len(labels), \"label num\"\n",
    "    for i in range(len(labels)):\n",
    "        color_index = color_dict[int(labels[i])]\n",
    "        #print i,x[i],y[i], color_list[color_index]\n",
    "        Plot.scatter(x[i],y[i],color=color_list[color_index],s=0.3)\n",
    "    #Plot.legend(numpoints=1,loc=3);\n",
    "    Plot.show()"
   ]
  },
  {
   "cell_type": "code",
   "execution_count": 146,
   "metadata": {
    "collapsed": false,
    "scrolled": false
   },
   "outputs": [
    {
     "name": "stdout",
     "output_type": "stream",
     "text": [
      "(1695, 2)\n",
      "defaultdict(<function <lambda> at 0x11f4aeb18>, {73: 1, 74: 6, 44: 8, 77: 0, 46: 5, 81: 4, 82: 9, 51: 7, 88: 2, 89: 3})\n",
      "1695 label num\n"
     ]
    },
    {
     "data": {
      "image/png": "[encoded data removed]",
      "text/plain": [
       "<matplotlib.figure.Figure at 0x11f652a10>"
      ]
     },
     "metadata": {},
     "output_type": "display_data"
    },
    {
     "name": "stdout",
     "output_type": "stream",
     "text": [
      "None\n"
     ]
    }
   ],
   "source": [
    "model = TSNE(n_components=2, random_state=1)\n",
    "feats_x = model.fit_transform(scale(feats))\n",
    "sorted_x =sorted(feats_x, key=lambda d:d[0], reverse = False)\n",
    "print feats.shape\n",
    "#show(feats, labels[:400])\n",
    "#Plot.scatter(feats[:,0],feats[:,1],)\n",
    "print show(feats_x,labels)"
   ]
  },
  {
   "cell_type": "code",
   "execution_count": 148,
   "metadata": {
    "collapsed": false
   },
   "outputs": [
    {
     "data": {
      "text/plain": [
       "0.1415929203539823"
      ]
     },
     "execution_count": 148,
     "metadata": {},
     "output_type": "execute_result"
    }
   ],
   "source": [
    "from sklearn.cross_validation import train_test_split\n",
    "from sklearn import svm\n",
    "X_train, X_test, y_train, y_test = train_test_split(feats_x, labels, test_size=0.4, random_state=0)\n",
    "clf = svm.SVC(kernel='linear', C=1).fit(X_train, y_train)\n",
    "clf.score(X_test, y_test)"
   ]
  },
  {
   "cell_type": "code",
   "execution_count": null,
   "metadata": {
    "collapsed": true
   },
   "outputs": [],
   "source": []
  }
 ],
 "metadata": {
  "kernelspec": {
   "display_name": "Python 2",
   "language": "python",
   "name": "python2"
  },
  "language_info": {
   "codemirror_mode": {
    "name": "ipython",
    "version": 2
   },
   "file_extension": ".py",
   "mimetype": "text/x-python",
   "name": "python",
   "nbconvert_exporter": "python",
   "pygments_lexer": "ipython2",
   "version": "2.7.13"
  }
 },
 "nbformat": 4,
 "nbformat_minor": 0
}
